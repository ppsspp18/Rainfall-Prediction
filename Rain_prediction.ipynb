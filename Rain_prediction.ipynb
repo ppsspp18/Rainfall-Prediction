{
  "cells": [
    {
      "cell_type": "code",
      "execution_count": 33,
      "metadata": {
        "id": "qAdWTuSEdVIp"
      },
      "outputs": [],
      "source": [
        "import warnings\n",
        "warnings.filterwarnings(\"ignore\")"
      ]
    },
    {
      "cell_type": "code",
      "execution_count": 34,
      "metadata": {
        "id": "rLV_FU7WeBw_"
      },
      "outputs": [],
      "source": [
        "import pandas as pd\n",
        "from sklearn.linear_model import LogisticRegression, LinearRegression\n",
        "from sklearn.neighbors import KNeighborsClassifier\n",
        "from sklearn.tree import DecisionTreeClassifier\n",
        "from sklearn.svm import LinearSVC\n",
        "from sklearn.model_selection import train_test_split\n",
        "from sklearn.metrics import (\n",
        "    accuracy_score, jaccard_score, f1_score, log_loss, mean_absolute_error,\n",
        "    mean_squared_error, r2_score\n",
        ")\n",
        "import matplotlib.pyplot as plt\n",
        "import numpy as np"
      ]
    },
    {
      "cell_type": "code",
      "execution_count": null,
      "metadata": {},
      "outputs": [],
      "source": [
        "'''\n",
        "Data is collected from  https://www.kaggle.com/datasets/jsphyg/weather-dataset-rattle-package\n",
        "'''"
      ]
    },
    {
      "cell_type": "code",
      "execution_count": 36,
      "metadata": {
        "colab": {
          "base_uri": "https://localhost:8080/"
        },
        "id": "m7bAGahjeOYx",
        "outputId": "3b9a1395-5f6b-4956-b04f-910285f3b0c5"
      },
      "outputs": [
        {
          "name": "stdout",
          "output_type": "stream",
          "text": [
            "Dataset Overview:\n",
            "         Date Location  MinTemp  MaxTemp  Rainfall  Evaporation  Sunshine  \\\n",
            "0  2008-12-01   Albury     13.4     22.9       0.6          NaN       NaN   \n",
            "1  2008-12-02   Albury      7.4     25.1       0.0          NaN       NaN   \n",
            "2  2008-12-03   Albury     12.9     25.7       0.0          NaN       NaN   \n",
            "3  2008-12-04   Albury      9.2     28.0       0.0          NaN       NaN   \n",
            "4  2008-12-05   Albury     17.5     32.3       1.0          NaN       NaN   \n",
            "\n",
            "  WindGustDir  WindGustSpeed WindDir9am  ... Humidity9am  Humidity3pm  \\\n",
            "0           W           44.0          W  ...        71.0         22.0   \n",
            "1         WNW           44.0        NNW  ...        44.0         25.0   \n",
            "2         WSW           46.0          W  ...        38.0         30.0   \n",
            "3          NE           24.0         SE  ...        45.0         16.0   \n",
            "4           W           41.0        ENE  ...        82.0         33.0   \n",
            "\n",
            "   Pressure9am  Pressure3pm  Cloud9am  Cloud3pm  Temp9am  Temp3pm  RainToday  \\\n",
            "0       1007.7       1007.1       8.0       NaN     16.9     21.8         No   \n",
            "1       1010.6       1007.8       NaN       NaN     17.2     24.3         No   \n",
            "2       1007.6       1008.7       NaN       2.0     21.0     23.2         No   \n",
            "3       1017.6       1012.8       NaN       NaN     18.1     26.5         No   \n",
            "4       1010.8       1006.0       7.0       8.0     17.8     29.7         No   \n",
            "\n",
            "   RainTomorrow  \n",
            "0            No  \n",
            "1            No  \n",
            "2            No  \n",
            "3            No  \n",
            "4            No  \n",
            "\n",
            "[5 rows x 23 columns]\n",
            "\n",
            "Data Types:\n",
            "Date              object\n",
            "Location          object\n",
            "MinTemp          float64\n",
            "MaxTemp          float64\n",
            "Rainfall         float64\n",
            "Evaporation      float64\n",
            "Sunshine         float64\n",
            "WindGustDir       object\n",
            "WindGustSpeed    float64\n",
            "WindDir9am        object\n",
            "WindDir3pm        object\n",
            "WindSpeed9am     float64\n",
            "WindSpeed3pm     float64\n",
            "Humidity9am      float64\n",
            "Humidity3pm      float64\n",
            "Pressure9am      float64\n",
            "Pressure3pm      float64\n",
            "Cloud9am         float64\n",
            "Cloud3pm         float64\n",
            "Temp9am          float64\n",
            "Temp3pm          float64\n",
            "RainToday         object\n",
            "RainTomorrow      object\n",
            "dtype: object\n"
          ]
        }
      ],
      "source": [
        "df = pd.read_csv('weatherAUS.csv')\n",
        "print(\"Dataset Overview:\")\n",
        "print(df.head())\n",
        "print(\"\\nData Types:\")\n",
        "print(df.dtypes)"
      ]
    },
    {
      "cell_type": "code",
      "execution_count": 37,
      "metadata": {
        "colab": {
          "base_uri": "https://localhost:8080/"
        },
        "id": "qgFRcrzgeb-Q",
        "outputId": "9a553381-f29d-4ac5-e45a-77c8aa67ed11"
      },
      "outputs": [
        {
          "name": "stdout",
          "output_type": "stream",
          "text": [
            "\n",
            "Preprocessing Data...\n"
          ]
        }
      ],
      "source": [
        "print(\"\\nPreprocessing Data...\")\n",
        "categorical_columns = ['RainToday', 'WindGustDir', 'WindDir9am', 'WindDir3pm']\n",
        "df_proc = pd.get_dummies(data=df, columns=categorical_columns)\n",
        "\n",
        "df_proc.replace(['No', 'Yes'], [0, 1], inplace=True)\n",
        "\n",
        "df_proc.drop(['Date', 'Location'], axis=1, inplace=True)\n",
        "\n",
        "df_proc = df_proc.astype(float)\n",
        "\n",
        "df_proc.dropna(inplace=True)\n",
        "\n",
        "features = df_proc.drop(columns='RainTomorrow', axis=1)\n",
        "Y = df_proc['RainTomorrow']"
      ]
    },
    {
      "cell_type": "code",
      "execution_count": 38,
      "metadata": {
        "id": "k-IyZT8PexCN"
      },
      "outputs": [],
      "source": [
        "x_train, x_test, y_train, y_test = train_test_split(features, Y, test_size=0.2, random_state=10)\n"
      ]
    },
    {
      "cell_type": "code",
      "execution_count": 39,
      "metadata": {
        "colab": {
          "base_uri": "https://localhost:8080/"
        },
        "id": "YFzjaReClhdS",
        "outputId": "544aa7ec-e6e5-4620-de3d-67767e532feb"
      },
      "outputs": [
        {
          "name": "stdout",
          "output_type": "stream",
          "text": [
            "\n",
            "Linear Regression:\n",
            "MAE: 0.24118600398018283\n",
            "MSE: 0.10713001435170146\n",
            "R2 Score: 0.37359094721168984\n"
          ]
        }
      ],
      "source": [
        "print(\"\\nLinear Regression:\")\n",
        "LinearReg = LinearRegression()\n",
        "LinearReg.fit(x_train, y_train)\n",
        "predictions = LinearReg.predict(x_test)\n",
        "LinearRegression_MAE = mean_absolute_error(y_test, predictions)\n",
        "LinearRegression_MSE = mean_squared_error(y_test, predictions)\n",
        "LinearRegression_R2 = r2_score(y_test, predictions)\n",
        "print(f\"MAE: {LinearRegression_MAE}\")\n",
        "print(f\"MSE: {LinearRegression_MSE}\")\n",
        "print(f\"R2 Score: {LinearRegression_R2}\")"
      ]
    },
    {
      "cell_type": "code",
      "execution_count": 40,
      "metadata": {
        "colab": {
          "base_uri": "https://localhost:8080/"
        },
        "id": "6qqWOqPTkSdC",
        "outputId": "30cf5836-eaea-476a-86f8-a4f0dd45dbb0"
      },
      "outputs": [
        {
          "name": "stdout",
          "output_type": "stream",
          "text": [
            "\n",
            "K-Nearest Neighbors (KNN):\n",
            "Accuracy: 0.8445515579273541\n",
            "Jaccard Index: 0.37745604963805585\n",
            "F1 Score: 0.8277229803396097\n"
          ]
        }
      ],
      "source": [
        "print(\"\\nK-Nearest Neighbors (KNN):\")\n",
        "KNN = KNeighborsClassifier(n_neighbors=4)\n",
        "KNN.fit(x_train, y_train)\n",
        "predictions = KNN.predict(x_test)\n",
        "KNN_Accuracy_Score = accuracy_score(y_test, predictions)\n",
        "KNN_JaccardIndex = jaccard_score(y_test, predictions)\n",
        "KNN_F1_Score = f1_score(y_test, predictions, average='weighted')\n",
        "print(f\"Accuracy: {KNN_Accuracy_Score}\")\n",
        "print(f\"Jaccard Index: {KNN_JaccardIndex}\")\n",
        "print(f\"F1 Score: {KNN_F1_Score}\")"
      ]
    },
    {
      "cell_type": "code",
      "execution_count": 41,
      "metadata": {
        "colab": {
          "base_uri": "https://localhost:8080/"
        },
        "id": "QRYTXkQlfAKf",
        "outputId": "01fe77ff-41b5-4d12-90a5-f357d5fa72a5"
      },
      "outputs": [
        {
          "name": "stdout",
          "output_type": "stream",
          "text": [
            "\n",
            "Decision Tree:\n",
            "Accuracy: 0.8473919779652264\n",
            "Jaccard Index: 0.4036326942482341\n",
            "F1 Score: 0.5751258087706685\n"
          ]
        }
      ],
      "source": [
        "print(\"\\nDecision Tree:\")\n",
        "Tree = DecisionTreeClassifier(criterion=\"entropy\", max_depth=8)\n",
        "Tree.fit(x_train, y_train)\n",
        "predictions = Tree.predict(x_test)\n",
        "Tree_Accuracy_Score = accuracy_score(y_test, predictions)\n",
        "Tree_JaccardIndex = jaccard_score(y_test, predictions)\n",
        "Tree_F1_Score = f1_score(y_test, predictions)\n",
        "print(f\"Accuracy: {Tree_Accuracy_Score}\")\n",
        "print(f\"Jaccard Index: {Tree_JaccardIndex}\")\n",
        "print(f\"F1 Score: {Tree_F1_Score}\")\n"
      ]
    },
    {
      "cell_type": "code",
      "execution_count": 42,
      "metadata": {
        "colab": {
          "base_uri": "https://localhost:8080/"
        },
        "id": "SKmZED0FfGCr",
        "outputId": "3bbc1812-c7b9-43d9-e553-6cb1b3693d89"
      },
      "outputs": [
        {
          "name": "stdout",
          "output_type": "stream",
          "text": [
            "\n",
            "Logistic Regression:\n",
            "Accuracy: 0.8539335513857806\n",
            "Jaccard Index: 0.4552166934189406\n",
            "F1 Score: 0.6256342378116038\n",
            "Log Loss: 0.3341156625153283\n"
          ]
        }
      ],
      "source": [
        "print(\"\\nLogistic Regression:\")\n",
        "x_train, x_test, y_train, y_test = train_test_split(features, Y, test_size=0.2, random_state=1)\n",
        "LR = LogisticRegression(solver='liblinear')\n",
        "LR.fit(x_train, y_train)\n",
        "predictions = LR.predict(x_test)\n",
        "LR_Accuracy_Score = accuracy_score(y_test, predictions)\n",
        "LR_JaccardIndex = jaccard_score(y_test, predictions)\n",
        "LR_F1_Score = f1_score(y_test, predictions)\n",
        "LR_Log_Loss = log_loss(y_test, LR.predict_proba(x_test))\n",
        "print(f\"Accuracy: {LR_Accuracy_Score}\")\n",
        "print(f\"Jaccard Index: {LR_JaccardIndex}\")\n",
        "print(f\"F1 Score: {LR_F1_Score}\")\n",
        "print(f\"Log Loss: {LR_Log_Loss}\")\n"
      ]
    },
    {
      "cell_type": "code",
      "execution_count": 43,
      "metadata": {
        "colab": {
          "base_uri": "https://localhost:8080/"
        },
        "id": "Qmw_3WJYl7qz",
        "outputId": "55fb3baa-cc1f-463f-eacc-4170e08aca47"
      },
      "outputs": [
        {
          "name": "stdout",
          "output_type": "stream",
          "text": [
            "\n",
            "Support Vector Machine (SVM):\n",
            "Accuracy: 0.8541056980547427\n",
            "Jaccard Index: 0.4473426801434627\n",
            "F1 Score: 0.6181572426222122\n"
          ]
        }
      ],
      "source": [
        "print(\"\\nSupport Vector Machine (SVM):\")\n",
        "SVM = LinearSVC()\n",
        "SVM.fit(x_train, y_train)\n",
        "predictions = SVM.predict(x_test)\n",
        "SVM_Accuracy_Score = accuracy_score(y_test, predictions)\n",
        "SVM_JaccardIndex = jaccard_score(y_test, predictions)\n",
        "SVM_F1_Score = f1_score(y_test, predictions)\n",
        "print(f\"Accuracy: {SVM_Accuracy_Score}\")\n",
        "print(f\"Jaccard Index: {SVM_JaccardIndex}\")\n",
        "print(f\"F1 Score: {SVM_F1_Score}\")\n"
      ]
    },
    {
      "cell_type": "code",
      "execution_count": 44,
      "metadata": {
        "colab": {
          "base_uri": "https://localhost:8080/"
        },
        "id": "AL0wKGLnfbhc",
        "outputId": "9d45c12c-93dc-4510-ba30-28f7d94c9bf6"
      },
      "outputs": [
        {
          "name": "stdout",
          "output_type": "stream",
          "text": [
            "\n",
            "Summary of Results:\n",
            "  Classification Algorithm  Accuracy Score  Jaccard Score  F1 Score  Log Loss\n",
            "0        Linear Regression             NaN            NaN       NaN      None\n",
            "1                KNN (K=4)        0.844552       0.377456  0.827723       N/A\n",
            "2            Decision Tree        0.847392       0.403633  0.575126       N/A\n",
            "3      Logistic Regression        0.853934       0.455217  0.625634  0.334116\n",
            "4                      SVM        0.854106       0.447343  0.618157       N/A\n"
          ]
        }
      ],
      "source": [
        "print(\"\\nSummary of Results:\")\n",
        "Report = {\n",
        "    'Classification Algorithm': ['Linear Regression', 'KNN (K=4)', 'Decision Tree', 'Logistic Regression', 'SVM'],\n",
        "    'Accuracy Score': [None, KNN_Accuracy_Score, Tree_Accuracy_Score, LR_Accuracy_Score, SVM_Accuracy_Score],\n",
        "    'Jaccard Score': [None, KNN_JaccardIndex, Tree_JaccardIndex, LR_JaccardIndex, SVM_JaccardIndex],\n",
        "    'F1 Score': [None, KNN_F1_Score, Tree_F1_Score, LR_F1_Score, SVM_F1_Score],\n",
        "    'Log Loss': [None, 'N/A', 'N/A', LR_Log_Loss, 'N/A']\n",
        "}\n",
        "Report_df = pd.DataFrame(Report)\n",
        "print(Report_df)"
      ]
    },
    {
      "cell_type": "code",
      "execution_count": 45,
      "metadata": {
        "colab": {
          "base_uri": "https://localhost:8080/",
          "height": 643
        },
        "id": "gb-K3NisfgKt",
        "outputId": "8f1b7ecb-3420-410e-9da5-958e6e1a4704"
      },
      "outputs": [
        {
          "name": "stdout",
          "output_type": "stream",
          "text": [
            "\n",
            "Plotting the Results...\n"
          ]
        },
        {
          "data": {
            "image/png": "[encoded data removed]",
            "text/plain": [
              "<Figure size 1000x600 with 1 Axes>"
            ]
          },
          "metadata": {},
          "output_type": "display_data"
        }
      ],
      "source": [
        "print(\"\\nPlotting the Results...\")\n",
        "def plot_results(report):\n",
        "    algorithms = report['Classification Algorithm']\n",
        "    accuracy = report['Accuracy Score']\n",
        "    f1_scores = report['F1 Score']\n",
        "\n",
        "    x = np.arange(len(algorithms))\n",
        "    width = 0.35\n",
        "\n",
        "    fig, ax = plt.subplots(figsize=(10, 6))\n",
        "    bars1 = ax.bar(x - width/2, accuracy, width, label='Accuracy')\n",
        "    bars2 = ax.bar(x + width/2, f1_scores, width, label='F1 Score')\n",
        "\n",
        "    ax.set_xlabel('Algorithms')\n",
        "    ax.set_ylabel('Scores')\n",
        "    ax.set_title('Model Performance Comparison')\n",
        "    ax.set_xticks(x)\n",
        "    ax.set_xticklabels(algorithms, rotation=45, ha='right')\n",
        "    ax.legend()\n",
        "\n",
        "    for bar in bars1:\n",
        "        height = bar.get_height()\n",
        "        ax.annotate(f'{height:.2f}',\n",
        "                    xy=(bar.get_x() + bar.get_width() / 2, height),\n",
        "                    xytext=(0, 3),\n",
        "                    textcoords=\"offset points\",\n",
        "                    ha='center', va='bottom')\n",
        "\n",
        "    for bar in bars2:\n",
        "        height = bar.get_height()\n",
        "        ax.annotate(f'{height:.2f}',\n",
        "                    xy=(bar.get_x() + bar.get_width() / 2, height),\n",
        "                    xytext=(0, 3),\n",
        "                    textcoords=\"offset points\",\n",
        "                    ha='center', va='bottom')\n",
        "\n",
        "    plt.tight_layout()\n",
        "    plt.show()\n",
        "\n",
        "plot_results(Report_df)"
      ]
    }
  ],
  "metadata": {
    "colab": {
      "provenance": []
    },
    "kernelspec": {
      "display_name": "Python 3",
      "name": "python3"
    },
    "language_info": {
      "name": "python"
    }
  },
  "nbformat": 4,
  "nbformat_minor": 0
}
