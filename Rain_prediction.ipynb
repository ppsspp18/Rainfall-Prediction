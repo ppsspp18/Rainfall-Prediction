{
  "cells": [
    {
      "cell_type": "code",
      "execution_count": null,
      "metadata": {
        "id": "qAdWTuSEdVIp"
      },
      "outputs": [],
      "source": [
        "import warnings\n",
        "warnings.filterwarnings(\"ignore\")"
      ]
    },
    {
      "cell_type": "code",
      "source": [
        "!pip install catboost"
      ],
      "metadata": {
        "colab": {
          "base_uri": "https://localhost:8080/"
        },
        "id": "gkc0Kg9yUZdV",
        "outputId": "3a0ff5fb-f224-4a5c-9a30-b4ba810370c6"
      },
      "execution_count": null,
      "outputs": [
        {
          "output_type": "stream",
          "name": "stdout",
          "text": [
            "Requirement already satisfied: catboost in /usr/local/lib/python3.11/dist-packages (1.2.8)\n",
            "Requirement already satisfied: graphviz in /usr/local/lib/python3.11/dist-packages (from catboost) (0.20.3)\n",
            "Requirement already satisfied: matplotlib in /usr/local/lib/python3.11/dist-packages (from catboost) (3.10.0)\n",
            "Requirement already satisfied: numpy<3.0,>=1.16.0 in /usr/local/lib/python3.11/dist-packages (from catboost) (2.0.2)\n",
            "Requirement already satisfied: pandas>=0.24 in /usr/local/lib/python3.11/dist-packages (from catboost) (2.2.2)\n",
            "Requirement already satisfied: scipy in /usr/local/lib/python3.11/dist-packages (from catboost) (1.15.3)\n",
            "Requirement already satisfied: plotly in /usr/local/lib/python3.11/dist-packages (from catboost) (5.24.1)\n",
            "Requirement already satisfied: six in /usr/local/lib/python3.11/dist-packages (from catboost) (1.17.0)\n",
            "Requirement already satisfied: python-dateutil>=2.8.2 in /usr/local/lib/python3.11/dist-packages (from pandas>=0.24->catboost) (2.9.0.post0)\n",
            "Requirement already satisfied: pytz>=2020.1 in /usr/local/lib/python3.11/dist-packages (from pandas>=0.24->catboost) (2025.2)\n",
            "Requirement already satisfied: tzdata>=2022.7 in /usr/local/lib/python3.11/dist-packages (from pandas>=0.24->catboost) (2025.2)\n",
            "Requirement already satisfied: contourpy>=1.0.1 in /usr/local/lib/python3.11/dist-packages (from matplotlib->catboost) (1.3.2)\n",
            "Requirement already satisfied: cycler>=0.10 in /usr/local/lib/python3.11/dist-packages (from matplotlib->catboost) (0.12.1)\n",
            "Requirement already satisfied: fonttools>=4.22.0 in /usr/local/lib/python3.11/dist-packages (from matplotlib->catboost) (4.58.0)\n",
            "Requirement already satisfied: kiwisolver>=1.3.1 in /usr/local/lib/python3.11/dist-packages (from matplotlib->catboost) (1.4.8)\n",
            "Requirement already satisfied: packaging>=20.0 in /usr/local/lib/python3.11/dist-packages (from matplotlib->catboost) (24.2)\n",
            "Requirement already satisfied: pillow>=8 in /usr/local/lib/python3.11/dist-packages (from matplotlib->catboost) (11.2.1)\n",
            "Requirement already satisfied: pyparsing>=2.3.1 in /usr/local/lib/python3.11/dist-packages (from matplotlib->catboost) (3.2.3)\n",
            "Requirement already satisfied: tenacity>=6.2.0 in /usr/local/lib/python3.11/dist-packages (from plotly->catboost) (9.1.2)\n"
          ]
        }
      ]
    },
    {
      "cell_type": "code",
      "execution_count": null,
      "metadata": {
        "id": "rLV_FU7WeBw_"
      },
      "outputs": [],
      "source": [
        "import pandas as pd\n",
        "from sklearn.linear_model import LogisticRegression, LinearRegression\n",
        "from sklearn.neighbors import KNeighborsClassifier\n",
        "from sklearn.tree import DecisionTreeClassifier\n",
        "from sklearn.svm import LinearSVC\n",
        "from sklearn.ensemble import RandomForestClassifier\n",
        "from xgboost import XGBClassifier\n",
        "from lightgbm import LGBMClassifier\n",
        "from catboost import CatBoostClassifier\n",
        "from imblearn.over_sampling import SMOTE\n",
        "from sklearn.model_selection import train_test_split,GridSearchCV, RandomizedSearchCV\n",
        "from scipy.stats import zscore\n",
        "from sklearn.metrics import (\n",
        "    accuracy_score, jaccard_score, f1_score, log_loss, mean_absolute_error,\n",
        "    mean_squared_error, r2_score, precision_score, recall_score\n",
        ")\n",
        "import matplotlib.pyplot as plt\n",
        "import numpy as np"
      ]
    },
    {
      "cell_type": "code",
      "execution_count": null,
      "metadata": {
        "colab": {
          "base_uri": "https://localhost:8080/"
        },
        "id": "m7bAGahjeOYx",
        "outputId": "60f92138-e8d3-4ae4-8f45-5e589f24077b"
      },
      "outputs": [
        {
          "output_type": "stream",
          "name": "stdout",
          "text": [
            "Dataset Overview:\n",
            "          Date Location  MinTemp  MaxTemp  Rainfall  Evaporation  Sunshine  \\\n",
            "0   2008-12-01   Albury     13.4     22.9       0.6          NaN       NaN   \n",
            "1   2008-12-02   Albury      7.4     25.1       0.0          NaN       NaN   \n",
            "2   2008-12-03   Albury     12.9     25.7       0.0          NaN       NaN   \n",
            "3   2008-12-04   Albury      9.2     28.0       0.0          NaN       NaN   \n",
            "4   2008-12-05   Albury     17.5     32.3       1.0          NaN       NaN   \n",
            "5   2008-12-06   Albury     14.6     29.7       0.2          NaN       NaN   \n",
            "6   2008-12-07   Albury     14.3     25.0       0.0          NaN       NaN   \n",
            "7   2008-12-08   Albury      7.7     26.7       0.0          NaN       NaN   \n",
            "8   2008-12-09   Albury      9.7     31.9       0.0          NaN       NaN   \n",
            "9   2008-12-10   Albury     13.1     30.1       1.4          NaN       NaN   \n",
            "10  2008-12-11   Albury     13.4     30.4       0.0          NaN       NaN   \n",
            "11  2008-12-12   Albury     15.9     21.7       2.2          NaN       NaN   \n",
            "12  2008-12-13   Albury     15.9     18.6      15.6          NaN       NaN   \n",
            "13  2008-12-14   Albury     12.6     21.0       3.6          NaN       NaN   \n",
            "14  2008-12-15   Albury      8.4     24.6       0.0          NaN       NaN   \n",
            "\n",
            "   WindGustDir  WindGustSpeed WindDir9am  ... Humidity9am  Humidity3pm  \\\n",
            "0            W           44.0          W  ...        71.0         22.0   \n",
            "1          WNW           44.0        NNW  ...        44.0         25.0   \n",
            "2          WSW           46.0          W  ...        38.0         30.0   \n",
            "3           NE           24.0         SE  ...        45.0         16.0   \n",
            "4            W           41.0        ENE  ...        82.0         33.0   \n",
            "5          WNW           56.0          W  ...        55.0         23.0   \n",
            "6            W           50.0         SW  ...        49.0         19.0   \n",
            "7            W           35.0        SSE  ...        48.0         19.0   \n",
            "8          NNW           80.0         SE  ...        42.0          9.0   \n",
            "9            W           28.0          S  ...        58.0         27.0   \n",
            "10           N           30.0        SSE  ...        48.0         22.0   \n",
            "11         NNE           31.0         NE  ...        89.0         91.0   \n",
            "12           W           61.0        NNW  ...        76.0         93.0   \n",
            "13          SW           44.0          W  ...        65.0         43.0   \n",
            "14         NaN            NaN          S  ...        57.0         32.0   \n",
            "\n",
            "    Pressure9am  Pressure3pm  Cloud9am  Cloud3pm  Temp9am  Temp3pm  RainToday  \\\n",
            "0        1007.7       1007.1       8.0       NaN     16.9     21.8         No   \n",
            "1        1010.6       1007.8       NaN       NaN     17.2     24.3         No   \n",
            "2        1007.6       1008.7       NaN       2.0     21.0     23.2         No   \n",
            "3        1017.6       1012.8       NaN       NaN     18.1     26.5         No   \n",
            "4        1010.8       1006.0       7.0       8.0     17.8     29.7         No   \n",
            "5        1009.2       1005.4       NaN       NaN     20.6     28.9         No   \n",
            "6        1009.6       1008.2       1.0       NaN     18.1     24.6         No   \n",
            "7        1013.4       1010.1       NaN       NaN     16.3     25.5         No   \n",
            "8        1008.9       1003.6       NaN       NaN     18.3     30.2         No   \n",
            "9        1007.0       1005.7       NaN       NaN     20.1     28.2        Yes   \n",
            "10       1011.8       1008.7       NaN       NaN     20.4     28.8         No   \n",
            "11       1010.5       1004.2       8.0       8.0     15.9     17.0        Yes   \n",
            "12        994.3        993.0       8.0       8.0     17.4     15.8        Yes   \n",
            "13       1001.2       1001.8       NaN       7.0     15.8     19.8        Yes   \n",
            "14       1009.7       1008.7       NaN       NaN     15.9     23.5         No   \n",
            "\n",
            "    RainTomorrow  \n",
            "0             No  \n",
            "1             No  \n",
            "2             No  \n",
            "3             No  \n",
            "4             No  \n",
            "5             No  \n",
            "6             No  \n",
            "7             No  \n",
            "8            Yes  \n",
            "9             No  \n",
            "10           Yes  \n",
            "11           Yes  \n",
            "12           Yes  \n",
            "13            No  \n",
            "14           NaN  \n",
            "\n",
            "[15 rows x 23 columns]\n"
          ]
        }
      ],
      "source": [
        "df = pd.read_csv('weatherAUS.csv')\n",
        "print(\"Dataset Overview:\")\n",
        "print(df.head(15))"
      ]
    },
    {
      "cell_type": "code",
      "source": [
        "rain_percent = df['RainTomorrow'].value_counts(normalize=True) * 100\n",
        "\n",
        "# Plot\n",
        "rain_percent.plot(kind='bar', color=['skyblue', 'lightgreen'])\n",
        "\n",
        "# Add annotations\n",
        "for i, value in enumerate(rain_percent):\n",
        "    plt.text(i, value + 1, f'{value:.1f}%', ha='center')\n",
        "\n",
        "# Labels and title\n",
        "plt.title('RainTomorrow Class Distribution (%)')\n",
        "plt.ylabel('Percentage')\n",
        "plt.xlabel('RainTomorrow')\n",
        "plt.ylim(0, 100)\n",
        "plt.show()\n"
      ],
      "metadata": {
        "colab": {
          "base_uri": "https://localhost:8080/",
          "height": 480
        },
        "id": "7DlQTeKSlf_y",
        "outputId": "6e4ccaea-8fa4-482c-e5a2-26686d607f85"
      },
      "execution_count": null,
      "outputs": [
        {
          "output_type": "display_data",
          "data": {
            "text/plain": [
              "<Figure size 640x480 with 1 Axes>"
            ],
            "image/png": "[encoded data removed]"
          },
          "metadata": {}
        }
      ]
    },
    {
      "cell_type": "code",
      "source": [
        "# one hot encoding\n",
        "categorical_columns = ['RainToday', 'WindGustDir', 'WindDir9am', 'WindDir3pm']\n",
        "df1 = pd.get_dummies(data=df, columns=categorical_columns)\n",
        "print(df1.head(15))\n",
        "print(df.isna().sum()) # miss value in the data"
      ],
      "metadata": {
        "colab": {
          "base_uri": "https://localhost:8080/"
        },
        "id": "4Ur-DQxSx-B9",
        "outputId": "2435f347-57dd-4b80-d4af-96757183aa8b"
      },
      "execution_count": null,
      "outputs": [
        {
          "output_type": "stream",
          "name": "stdout",
          "text": [
            "          Date Location  MinTemp  MaxTemp  Rainfall  Evaporation  Sunshine  \\\n",
            "0   2008-12-01   Albury     13.4     22.9       0.6          NaN       NaN   \n",
            "1   2008-12-02   Albury      7.4     25.1       0.0          NaN       NaN   \n",
            "2   2008-12-03   Albury     12.9     25.7       0.0          NaN       NaN   \n",
            "3   2008-12-04   Albury      9.2     28.0       0.0          NaN       NaN   \n",
            "4   2008-12-05   Albury     17.5     32.3       1.0          NaN       NaN   \n",
            "5   2008-12-06   Albury     14.6     29.7       0.2          NaN       NaN   \n",
            "6   2008-12-07   Albury     14.3     25.0       0.0          NaN       NaN   \n",
            "7   2008-12-08   Albury      7.7     26.7       0.0          NaN       NaN   \n",
            "8   2008-12-09   Albury      9.7     31.9       0.0          NaN       NaN   \n",
            "9   2008-12-10   Albury     13.1     30.1       1.4          NaN       NaN   \n",
            "10  2008-12-11   Albury     13.4     30.4       0.0          NaN       NaN   \n",
            "11  2008-12-12   Albury     15.9     21.7       2.2          NaN       NaN   \n",
            "12  2008-12-13   Albury     15.9     18.6      15.6          NaN       NaN   \n",
            "13  2008-12-14   Albury     12.6     21.0       3.6          NaN       NaN   \n",
            "14  2008-12-15   Albury      8.4     24.6       0.0          NaN       NaN   \n",
            "\n",
            "    WindGustSpeed  WindSpeed9am  WindSpeed3pm  ...  WindDir3pm_NNW  \\\n",
            "0            44.0          20.0          24.0  ...           False   \n",
            "1            44.0           4.0          22.0  ...           False   \n",
            "2            46.0          19.0          26.0  ...           False   \n",
            "3            24.0          11.0           9.0  ...           False   \n",
            "4            41.0           7.0          20.0  ...           False   \n",
            "5            56.0          19.0          24.0  ...           False   \n",
            "6            50.0          20.0          24.0  ...           False   \n",
            "7            35.0           6.0          17.0  ...           False   \n",
            "8            80.0           7.0          28.0  ...           False   \n",
            "9            28.0          15.0          11.0  ...           False   \n",
            "10           30.0          17.0           6.0  ...           False   \n",
            "11           31.0          15.0          13.0  ...           False   \n",
            "12           61.0          28.0          28.0  ...            True   \n",
            "13           44.0          24.0          20.0  ...           False   \n",
            "14            NaN           4.0          30.0  ...           False   \n",
            "\n",
            "    WindDir3pm_NW  WindDir3pm_S  WindDir3pm_SE  WindDir3pm_SSE  \\\n",
            "0           False         False          False           False   \n",
            "1           False         False          False           False   \n",
            "2           False         False          False           False   \n",
            "3           False         False          False           False   \n",
            "4            True         False          False           False   \n",
            "5           False         False          False           False   \n",
            "6           False         False          False           False   \n",
            "7           False         False          False           False   \n",
            "8            True         False          False           False   \n",
            "9           False         False          False            True   \n",
            "10          False         False          False           False   \n",
            "11          False         False          False           False   \n",
            "12          False         False          False           False   \n",
            "13          False         False          False           False   \n",
            "14          False         False          False           False   \n",
            "\n",
            "    WindDir3pm_SSW  WindDir3pm_SW  WindDir3pm_W WindDir3pm_WNW  WindDir3pm_WSW  \n",
            "0            False          False         False           True           False  \n",
            "1            False          False         False          False            True  \n",
            "2            False          False         False          False            True  \n",
            "3            False          False         False          False           False  \n",
            "4            False          False         False          False           False  \n",
            "5            False          False          True          False           False  \n",
            "6            False          False          True          False           False  \n",
            "7            False          False          True          False           False  \n",
            "8            False          False         False          False           False  \n",
            "9            False          False         False          False           False  \n",
            "10           False          False         False          False           False  \n",
            "11           False          False         False          False           False  \n",
            "12           False          False         False          False           False  \n",
            "13            True          False         False          False           False  \n",
            "14           False          False         False           True           False  \n",
            "\n",
            "[15 rows x 69 columns]\n",
            "Date                 0\n",
            "Location             0\n",
            "MinTemp           1485\n",
            "MaxTemp           1261\n",
            "Rainfall          3261\n",
            "Evaporation      62790\n",
            "Sunshine         69835\n",
            "WindGustDir      10326\n",
            "WindGustSpeed    10263\n",
            "WindDir9am       10566\n",
            "WindDir3pm        4228\n",
            "WindSpeed9am      1767\n",
            "WindSpeed3pm      3062\n",
            "Humidity9am       2654\n",
            "Humidity3pm       4507\n",
            "Pressure9am      15065\n",
            "Pressure3pm      15028\n",
            "Cloud9am         55888\n",
            "Cloud3pm         59358\n",
            "Temp9am           1767\n",
            "Temp3pm           3609\n",
            "RainToday         3261\n",
            "RainTomorrow      3267\n",
            "dtype: int64\n"
          ]
        }
      ]
    },
    {
      "cell_type": "code",
      "execution_count": null,
      "metadata": {
        "colab": {
          "base_uri": "https://localhost:8080/"
        },
        "id": "qgFRcrzgeb-Q",
        "outputId": "d1fbe2ba-3102-4cab-ef67-ea00b5f12edb"
      },
      "outputs": [
        {
          "output_type": "stream",
          "name": "stdout",
          "text": [
            "      MinTemp  MaxTemp  Rainfall  Evaporation  Sunshine  WindGustSpeed  \\\n",
            "6049     17.9     35.2       0.0         12.0      12.3           48.0   \n",
            "6050     18.4     28.9       0.0         14.8      13.0           37.0   \n",
            "6052     19.4     37.6       0.0         10.8      10.6           46.0   \n",
            "6053     21.9     38.4       0.0         11.4      12.2           31.0   \n",
            "6054     24.2     41.0       0.0         11.2       8.4           35.0   \n",
            "6055     27.1     36.1       0.0         13.0       0.0           43.0   \n",
            "6056     23.3     34.0       0.0          9.8      12.6           41.0   \n",
            "6057     16.1     34.2       0.0         14.6      13.2           37.0   \n",
            "6058     19.0     35.5       0.0         12.0      12.3           48.0   \n",
            "6059     19.7     35.5       0.0         11.0      12.7           41.0   \n",
            "6060     20.9     37.8       0.0         12.8      13.2           30.0   \n",
            "6061     23.9     39.1       0.0         13.8      12.1           39.0   \n",
            "6062     24.9     41.2       0.0         14.8      13.0           43.0   \n",
            "6063     25.2     40.5       0.0         16.4      10.3           44.0   \n",
            "6064     21.6     34.2       0.0         17.4      13.1           44.0   \n",
            "\n",
            "      WindSpeed9am  WindSpeed3pm  Humidity9am  Humidity3pm  ...  \\\n",
            "6049           6.0          20.0         20.0         13.0  ...   \n",
            "6050          19.0          19.0         30.0          8.0  ...   \n",
            "6052          30.0          15.0         42.0         22.0  ...   \n",
            "6053           6.0           6.0         37.0         22.0  ...   \n",
            "6054          17.0          13.0         19.0         15.0  ...   \n",
            "6055           7.0          20.0         26.0         19.0  ...   \n",
            "6056          17.0          19.0         33.0         15.0  ...   \n",
            "6057          15.0           6.0         25.0          9.0  ...   \n",
            "6058          30.0           9.0         46.0         28.0  ...   \n",
            "6059          15.0          17.0         61.0         14.0  ...   \n",
            "6060          11.0           7.0         27.0          9.0  ...   \n",
            "6061          24.0           9.0         40.0         15.0  ...   \n",
            "6062          17.0          11.0         25.0         15.0  ...   \n",
            "6063          13.0          22.0         24.0         15.0  ...   \n",
            "6064          17.0          19.0         19.0          8.0  ...   \n",
            "\n",
            "      WindDir3pm_NNW  WindDir3pm_NW  WindDir3pm_S  WindDir3pm_SE  \\\n",
            "6049             0.0            0.0           0.0            0.0   \n",
            "6050             0.0            0.0           0.0            0.0   \n",
            "6052             1.0            0.0           0.0            0.0   \n",
            "6053             0.0            0.0           0.0            0.0   \n",
            "6054             0.0            0.0           0.0            0.0   \n",
            "6055             0.0            0.0           0.0            0.0   \n",
            "6056             0.0            0.0           0.0            0.0   \n",
            "6057             0.0            0.0           1.0            0.0   \n",
            "6058             0.0            0.0           0.0            0.0   \n",
            "6059             0.0            0.0           0.0            0.0   \n",
            "6060             0.0            0.0           0.0            0.0   \n",
            "6061             0.0            0.0           0.0            0.0   \n",
            "6062             1.0            0.0           0.0            0.0   \n",
            "6063             0.0            0.0           0.0            0.0   \n",
            "6064             0.0            0.0           1.0            0.0   \n",
            "\n",
            "      WindDir3pm_SSE  WindDir3pm_SSW  WindDir3pm_SW  WindDir3pm_W  \\\n",
            "6049             0.0             0.0            1.0           0.0   \n",
            "6050             1.0             0.0            0.0           0.0   \n",
            "6052             0.0             0.0            0.0           0.0   \n",
            "6053             0.0             0.0            0.0           0.0   \n",
            "6054             0.0             0.0            0.0           0.0   \n",
            "6055             0.0             0.0            0.0           0.0   \n",
            "6056             1.0             0.0            0.0           0.0   \n",
            "6057             0.0             0.0            0.0           0.0   \n",
            "6058             0.0             0.0            0.0           0.0   \n",
            "6059             0.0             0.0            0.0           0.0   \n",
            "6060             0.0             0.0            0.0           0.0   \n",
            "6061             0.0             0.0            0.0           0.0   \n",
            "6062             0.0             0.0            0.0           0.0   \n",
            "6063             0.0             0.0            1.0           0.0   \n",
            "6064             0.0             0.0            0.0           0.0   \n",
            "\n",
            "      WindDir3pm_WNW  WindDir3pm_WSW  \n",
            "6049             0.0             0.0  \n",
            "6050             0.0             0.0  \n",
            "6052             0.0             0.0  \n",
            "6053             0.0             1.0  \n",
            "6054             1.0             0.0  \n",
            "6055             1.0             0.0  \n",
            "6056             0.0             0.0  \n",
            "6057             0.0             0.0  \n",
            "6058             0.0             1.0  \n",
            "6059             0.0             1.0  \n",
            "6060             0.0             0.0  \n",
            "6061             0.0             0.0  \n",
            "6062             0.0             0.0  \n",
            "6063             0.0             0.0  \n",
            "6064             0.0             0.0  \n",
            "\n",
            "[15 rows x 67 columns]\n",
            "Index(['MinTemp', 'MaxTemp', 'Rainfall', 'Evaporation', 'Sunshine',\n",
            "       'WindGustSpeed', 'WindSpeed9am', 'WindSpeed3pm', 'Humidity9am',\n",
            "       'Humidity3pm', 'Pressure9am', 'Pressure3pm', 'Cloud9am', 'Cloud3pm',\n",
            "       'Temp9am', 'Temp3pm', 'RainTomorrow', 'RainToday_No', 'RainToday_Yes',\n",
            "       'WindGustDir_E', 'WindGustDir_ENE', 'WindGustDir_ESE', 'WindGustDir_N',\n",
            "       'WindGustDir_NE', 'WindGustDir_NNE', 'WindGustDir_NNW',\n",
            "       'WindGustDir_NW', 'WindGustDir_S', 'WindGustDir_SE', 'WindGustDir_SSE',\n",
            "       'WindGustDir_SSW', 'WindGustDir_SW', 'WindGustDir_W', 'WindGustDir_WNW',\n",
            "       'WindGustDir_WSW', 'WindDir9am_E', 'WindDir9am_ENE', 'WindDir9am_ESE',\n",
            "       'WindDir9am_N', 'WindDir9am_NE', 'WindDir9am_NNE', 'WindDir9am_NNW',\n",
            "       'WindDir9am_NW', 'WindDir9am_S', 'WindDir9am_SE', 'WindDir9am_SSE',\n",
            "       'WindDir9am_SSW', 'WindDir9am_SW', 'WindDir9am_W', 'WindDir9am_WNW',\n",
            "       'WindDir9am_WSW', 'WindDir3pm_E', 'WindDir3pm_ENE', 'WindDir3pm_ESE',\n",
            "       'WindDir3pm_N', 'WindDir3pm_NE', 'WindDir3pm_NNE', 'WindDir3pm_NNW',\n",
            "       'WindDir3pm_NW', 'WindDir3pm_S', 'WindDir3pm_SE', 'WindDir3pm_SSE',\n",
            "       'WindDir3pm_SSW', 'WindDir3pm_SW', 'WindDir3pm_W', 'WindDir3pm_WNW',\n",
            "       'WindDir3pm_WSW'],\n",
            "      dtype='object')\n",
            "MinTemp           0\n",
            "MaxTemp           0\n",
            "Rainfall          0\n",
            "Evaporation       0\n",
            "Sunshine          0\n",
            "                 ..\n",
            "WindDir3pm_SSW    0\n",
            "WindDir3pm_SW     0\n",
            "WindDir3pm_W      0\n",
            "WindDir3pm_WNW    0\n",
            "WindDir3pm_WSW    0\n",
            "Length: 67, dtype: int64\n"
          ]
        }
      ],
      "source": [
        "df1.replace(['No', 'Yes'], [0, 1], inplace=True)\n",
        "\n",
        "df1.drop(['Date', 'Location'], axis=1, inplace=True)\n",
        "\n",
        "df1 = df1.astype(float)\n",
        "\n",
        "df1.dropna(inplace=True)\n",
        "\n",
        "X = df1.drop(columns='RainTomorrow', axis=1)\n",
        "Y = df1['RainTomorrow']\n",
        "\n",
        "print(df1.head(15))\n",
        "print(df1.columns)\n",
        "print(df1.isna().sum())"
      ]
    },
    {
      "cell_type": "code",
      "source": [
        "# handling the outliers\n",
        "for col in ['MinTemp', 'MaxTemp', 'Rainfall', 'Evaporation', 'Sunshine',\n",
        "       'WindGustSpeed', 'WindSpeed9am', 'WindSpeed3pm', 'Humidity9am',\n",
        "       'Humidity3pm', 'Pressure9am', 'Pressure3pm', 'Cloud9am', 'Cloud3pm',\n",
        "       'Temp9am', 'Temp3pm']:\n",
        "    Q1 = df[col].quantile(0.25)\n",
        "    Q3 = df[col].quantile(0.75)\n",
        "    IQR = Q3 - Q1\n",
        "\n",
        "    lower_bound = Q1 - 1.5 * IQR\n",
        "    upper_bound = Q3 + 1.5 * IQR\n",
        "\n",
        "    # Cap the outliers to the bounds\n",
        "    df[col] = df[col].clip(lower=lower_bound, upper=upper_bound)\n"
      ],
      "metadata": {
        "id": "WoDmAs2bRzhj"
      },
      "execution_count": null,
      "outputs": []
    },
    {
      "cell_type": "code",
      "execution_count": null,
      "metadata": {
        "id": "k-IyZT8PexCN",
        "colab": {
          "base_uri": "https://localhost:8080/"
        },
        "outputId": "1c5b6c2e-1e01-4f45-f875-a3c7fcf7c3fc"
      },
      "outputs": [
        {
          "output_type": "stream",
          "name": "stdout",
          "text": [
            "Before SMOTE: RainTomorrow\n",
            "0.0    0.781259\n",
            "1.0    0.218741\n",
            "Name: proportion, dtype: float64\n",
            "After SMOTE: RainTomorrow\n",
            "0.0    0.5\n",
            "1.0    0.5\n",
            "Name: proportion, dtype: float64\n"
          ]
        }
      ],
      "source": [
        "x_train1, x_test, y_train1, y_test = train_test_split(X, Y, test_size=0.1, random_state=10)\n",
        "\n",
        "# Apply SMOTE to training data\n",
        "smote = SMOTE(random_state=42)\n",
        "X_train_smote, y_train_smote = smote.fit_resample(x_train1, y_train1)\n",
        "\n",
        "# Confirm new class balance\n",
        "print(\"Before SMOTE:\", y_train1.value_counts(normalize=True))\n",
        "print(\"After SMOTE:\", y_train_smote.value_counts(normalize=True))\n",
        "\n",
        "x_train = X_train_smote\n",
        "y_train = y_train_smote\n"
      ]
    },
    {
      "cell_type": "code",
      "source": [
        "print(\"\\nLogistic Regression:\")\n",
        "LR = LogisticRegression(solver='liblinear')\n",
        "LR.fit(x_train, y_train)\n",
        "predictions = LR.predict(x_test)\n",
        "LR_Accuracy_Score = accuracy_score(y_test, predictions)\n",
        "LR_JaccardIndex = jaccard_score(y_test, predictions)\n",
        "LR_F1_Score = f1_score(y_test, predictions)\n",
        "LR_Log_Loss = log_loss(y_test, LR.predict_proba(x_test))\n",
        "LR_Precision = precision_score(y_test, predictions)\n",
        "LR_Recall = recall_score(y_test, predictions)\n",
        "print(f\"Accuracy: {LR_Accuracy_Score}\")\n",
        "print(f\"Jaccard Index: {LR_JaccardIndex}\")\n",
        "print(f\"F1 Score: {LR_F1_Score}\")\n",
        "print(f\"Log Loss: {LR_Log_Loss}\")\n",
        "print(f\"Precision: {LR_Precision}\")\n",
        "print(f\"Recall: {LR_Recall}\")\n",
        "\n"
      ],
      "metadata": {
        "colab": {
          "base_uri": "https://localhost:8080/"
        },
        "id": "Q70fb7SFE_Rs",
        "outputId": "0e78d1b6-c5fb-40df-b8d6-de3a2c5b22df"
      },
      "execution_count": null,
      "outputs": [
        {
          "output_type": "stream",
          "name": "stdout",
          "text": [
            "\n",
            "Logistic Regression:\n",
            "Accuracy: 0.8108108108108109\n",
            "Jaccard Index: 0.4803782505910166\n",
            "F1 Score: 0.6489939316512296\n",
            "Log Loss: 0.4159451282144532\n",
            "Precision: 0.5527747551686616\n",
            "Recall: 0.785769528228925\n"
          ]
        }
      ]
    },
    {
      "cell_type": "code",
      "execution_count": 23,
      "metadata": {
        "colab": {
          "base_uri": "https://localhost:8080/",
          "height": 628
        },
        "id": "6qqWOqPTkSdC",
        "outputId": "ca000e34-65ab-494e-d5df-5850016fbd12"
      },
      "outputs": [
        {
          "output_type": "display_data",
          "data": {
            "text/plain": [
              "<Figure size 640x480 with 1 Axes>"
            ],
            "image/png": "[encoded data removed]"
          },
          "metadata": {}
        },
        {
          "output_type": "stream",
          "name": "stdout",
          "text": [
            "\n",
            "Best k: 2\n",
            "\n",
            "Optimized K-Nearest Neighbors (KNN):\n",
            "Accuracy: 0.7984\n",
            "Jaccard Index: 0.3824\n",
            "F1 Score: 0.5532\n",
            "Precision: 0.5459\n",
            "Recall: 0.5607\n"
          ]
        }
      ],
      "source": [
        "# Search for best k\n",
        "k_range = range(1, 21)\n",
        "accuracies = []\n",
        "\n",
        "for k in k_range:\n",
        "    knn = KNeighborsClassifier(n_neighbors=k)\n",
        "    knn.fit(x_train, y_train)\n",
        "    pred = knn.predict(x_test)\n",
        "    acc = accuracy_score(y_test, pred)\n",
        "    accuracies.append(acc)\n",
        "\n",
        "# Plot accuracy vs k\n",
        "plt.plot(k_range, accuracies, marker='o')\n",
        "plt.xlabel('Number of Neighbors (k)')\n",
        "plt.ylabel('Accuracy')\n",
        "plt.title('KNN Accuracy for Different k')\n",
        "plt.grid(True)\n",
        "plt.show()\n",
        "\n",
        "# Get best k and retrain model\n",
        "best_k = k_range[accuracies.index(max(accuracies))]\n",
        "print(f\"\\nBest k: {best_k}\")\n",
        "\n",
        "# Final model with best k\n",
        "KNN = KNeighborsClassifier(n_neighbors=best_k)\n",
        "KNN.fit(x_train, y_train)\n",
        "predictions = KNN.predict(x_test)\n",
        "\n",
        "# Metrics\n",
        "KNN_Accuracy_Score = accuracy_score(y_test, predictions)\n",
        "KNN_JaccardIndex = jaccard_score(y_test, predictions)\n",
        "KNN_F1_Score = f1_score(y_test, predictions)\n",
        "KNN_Precision = precision_score(y_test, predictions)\n",
        "KNN_Recall = recall_score(y_test, predictions)\n",
        "\n",
        "print(\"\\nOptimized K-Nearest Neighbors (KNN):\")\n",
        "print(f\"Accuracy: {KNN_Accuracy_Score:.4f}\")\n",
        "print(f\"Jaccard Index: {KNN_JaccardIndex:.4f}\")\n",
        "print(f\"F1 Score: {KNN_F1_Score:.4f}\")\n",
        "print(f\"Precision: {KNN_Precision:.4f}\")\n",
        "print(f\"Recall: {KNN_Recall:.4f}\")"
      ]
    },
    {
      "cell_type": "code",
      "execution_count": null,
      "metadata": {
        "colab": {
          "base_uri": "https://localhost:8080/"
        },
        "id": "QRYTXkQlfAKf",
        "outputId": "cb9ce61e-79db-4797-a191-7dcf0e401101"
      },
      "outputs": [
        {
          "output_type": "stream",
          "name": "stdout",
          "text": [
            "\n",
            "Decision Tree:\n",
            "Accuracy: 0.8130487175073162\n",
            "Jaccard Index: 0.44873096446700506\n",
            "F1 Score: 0.6194814295725298\n",
            "Precision: 0.5663036515054453\n",
            "Recall: 0.6836813611755607\n"
          ]
        }
      ],
      "source": [
        "print(\"\\nDecision Tree:\")\n",
        "Tree = DecisionTreeClassifier(criterion=\"entropy\", max_depth=8)\n",
        "Tree.fit(x_train, y_train)\n",
        "predictions = Tree.predict(x_test)\n",
        "Tree_Accuracy_Score = accuracy_score(y_test, predictions)\n",
        "Tree_JaccardIndex = jaccard_score(y_test, predictions)\n",
        "Tree_F1_Score = f1_score(y_test, predictions)\n",
        "Tree_precision = precision_score(y_test, predictions)\n",
        "Tree_recall = recall_score(y_test, predictions)\n",
        "print(f\"Accuracy: {Tree_Accuracy_Score}\")\n",
        "print(f\"Jaccard Index: {Tree_JaccardIndex}\")\n",
        "print(f\"F1 Score: {Tree_F1_Score}\")\n",
        "print(f\"Precision: {Tree_precision}\")\n",
        "print(f\"Recall: {Tree_recall}\")"
      ]
    },
    {
      "cell_type": "code",
      "execution_count": null,
      "metadata": {
        "colab": {
          "base_uri": "https://localhost:8080/"
        },
        "id": "Qmw_3WJYl7qz",
        "outputId": "0da8bae3-ea76-4d65-8513-99cc9f0ef8ee"
      },
      "outputs": [
        {
          "output_type": "stream",
          "name": "stdout",
          "text": [
            "\n",
            "Support Vector Machine (SVM):\n",
            "Accuracy: 0.8113272508176966\n",
            "Jaccard Index: 0.48228625413320736\n",
            "F1 Score: 0.6507329509241555\n",
            "Precision: 0.5533875338753388\n",
            "Recall: 0.7896365042536736\n"
          ]
        }
      ],
      "source": [
        "print(\"\\nSupport Vector Machine (SVM):\")\n",
        "SVM = LinearSVC()\n",
        "SVM.fit(x_train, y_train)\n",
        "predictions = SVM.predict(x_test)\n",
        "SVM_Accuracy_Score = accuracy_score(y_test, predictions)\n",
        "SVM_JaccardIndex = jaccard_score(y_test, predictions)\n",
        "SVM_F1_Score = f1_score(y_test, predictions)\n",
        "SVM_precision = precision_score(y_test, predictions)\n",
        "SVM_recall = recall_score(y_test, predictions)\n",
        "print(f\"Accuracy: {SVM_Accuracy_Score}\")\n",
        "print(f\"Jaccard Index: {SVM_JaccardIndex}\")\n",
        "print(f\"F1 Score: {SVM_F1_Score}\")\n",
        "print(f\"Precision: {SVM_precision}\")\n",
        "print(f\"Recall: {SVM_recall}\")\n"
      ]
    },
    {
      "cell_type": "code",
      "source": [
        "print(\"\\nRandom Forest:\")\n",
        "rf = RandomForestClassifier(n_estimators=100, max_depth=8, random_state=42)\n",
        "rf.fit(x_train, y_train)\n",
        "rf_pred = rf.predict(x_test)\n",
        "rf_accuracy_score = accuracy_score(y_test, rf_pred)\n",
        "rf_ji = jaccard_score(y_test, rf_pred)\n",
        "rf_f1 = f1_score(y_test, rf_pred)\n",
        "rf_pr = precision_score(y_test, rf_pred)\n",
        "rf_re = recall_score(y_test, rf_pred)\n",
        "print(f\"Accuracy: {rf_accuracy_score}\")\n",
        "print(f\"Jaccard Index: {rf_ji}\")\n",
        "print(f\"F1 Score: {rf_f1}\")\n",
        "print(f\"Precision: {rf_pr}\")\n",
        "print(f\"Recall: {rf_re}\")"
      ],
      "metadata": {
        "colab": {
          "base_uri": "https://localhost:8080/"
        },
        "id": "ePKVMjk_T6eu",
        "outputId": "c3056939-c333-4d4d-b8ca-d00e13390e91"
      },
      "execution_count": null,
      "outputs": [
        {
          "output_type": "stream",
          "name": "stdout",
          "text": [
            "\n",
            "Random Forest:\n",
            "Accuracy: 0.817696677569289\n",
            "Jaccard Index: 0.469438877755511\n",
            "F1 Score: 0.6389362427548585\n",
            "Precision: 0.5713414634146341\n",
            "Recall: 0.7246713070378964\n"
          ]
        }
      ]
    },
    {
      "cell_type": "code",
      "source": [
        "print(\"\\nXGBoost:\")\n",
        "xgb = XGBClassifier(use_label_encoder=False, eval_metric='logloss')\n",
        "xgb_param_grid = {\n",
        "    'n_estimators': [100, 200],\n",
        "    'max_depth': [3, 6, 9],\n",
        "    'learning_rate': [0.01, 0.1, 0.2]\n",
        "}\n",
        "search = RandomizedSearchCV(estimator=xgb, param_distributions=xgb_param_grid,\n",
        "                            n_iter=5, cv=3, scoring='accuracy', verbose=1, n_jobs=-1)\n",
        "search.fit(x_train, y_train)\n",
        "print(\"Best XGBoost Params:\", search.best_params_)\n",
        "best_model = search.best_estimator_\n",
        "xgb_pred = best_model.predict(x_test)\n",
        "\n",
        "xgb_acc = accuracy_score(y_test, xgb_pred)\n",
        "xgb_ji = jaccard_score(y_test, xgb_pred)\n",
        "xgb_f1 = f1_score(y_test, xgb_pred)\n",
        "xgb_pr = precision_score(y_test, xgb_pred)\n",
        "xgb_re = recall_score(y_test, xgb_pred)\n",
        "\n",
        "print(f\"Accuracy: {xgb_acc}\")\n",
        "print(f\"Jaccard Index: {xgb_ji}\")\n",
        "print(f\"F1 Score: {xgb_f1}\")\n",
        "print(f\"Precision: {xgb_pr}\")\n",
        "print(f\"Recall: {xgb_re}\")"
      ],
      "metadata": {
        "colab": {
          "base_uri": "https://localhost:8080/"
        },
        "id": "5p-pO6oFT7on",
        "outputId": "a4c6a902-58ba-4e1d-e90f-d5be1826b74e"
      },
      "execution_count": null,
      "outputs": [
        {
          "output_type": "stream",
          "name": "stdout",
          "text": [
            "\n",
            "XGBoost:\n",
            "Fitting 3 folds for each of 5 candidates, totalling 15 fits\n",
            "Best XGBoost Params: {'n_estimators': 200, 'max_depth': 9, 'learning_rate': 0.01}\n",
            "Accuracy: 0.8442072645894302\n",
            "Jaccard Index: 0.48579545454545453\n",
            "F1 Score: 0.6539196940726577\n",
            "Precision: 0.6467473524962178\n",
            "Recall: 0.6612529002320185\n"
          ]
        }
      ]
    },
    {
      "cell_type": "code",
      "source": [
        "print(\"\\nLightGBM:\")\n",
        "lgb = LGBMClassifier()\n",
        "lgb_param_grid = {\n",
        "    'n_estimators': [100, 200],\n",
        "    'num_leaves': [31, 50],\n",
        "    'learning_rate': [0.01, 0.1]\n",
        "}\n",
        "search = RandomizedSearchCV(estimator=lgb, param_distributions=lgb_param_grid,\n",
        "                            n_iter=5, cv=3, scoring='accuracy', verbose=1, n_jobs=-1)\n",
        "search.fit(x_train, y_train)\n",
        "print(\"Best LightGBM Params:\", search.best_params_)\n",
        "best_model = search.best_estimator_\n",
        "lgbm_pred = best_model.predict(x_test)\n",
        "\n",
        "lgbm_acc = accuracy_score(y_test, lgbm_pred)\n",
        "lgbm_ji = jaccard_score(y_test, lgbm_pred)\n",
        "lgbm_f1 = f1_score(y_test, lgbm_pred)\n",
        "lgbm_pr = precision_score(y_test, lgbm_pred)\n",
        "lgbm_re = recall_score(y_test, lgbm_pred)\n",
        "print(f\"Accuracy: {lgbm_acc}\")\n",
        "print(f\"Jaccard Index: {lgbm_ji}\")\n",
        "print(f\"F1 Score: {lgbm_f1}\")\n",
        "print(f\"Precision: {lgbm_pr}\")\n",
        "print(f\"Recall: {lgbm_re}\")"
      ],
      "metadata": {
        "colab": {
          "base_uri": "https://localhost:8080/"
        },
        "id": "MFYkFzSYUCTR",
        "outputId": "95ae6b72-9187-42a8-881e-43c58ffef97a"
      },
      "execution_count": null,
      "outputs": [
        {
          "output_type": "stream",
          "name": "stdout",
          "text": [
            "\n",
            "LightGBM:\n",
            "Fitting 3 folds for each of 5 candidates, totalling 15 fits\n",
            "[LightGBM] [Info] Number of positive: 40845, number of negative: 40845\n",
            "[LightGBM] [Info] Auto-choosing row-wise multi-threading, the overhead of testing was 0.044219 seconds.\n",
            "You can set `force_row_wise=true` to remove the overhead.\n",
            "And if memory is not enough, you can set `force_col_wise=true`.\n",
            "[LightGBM] [Info] Total Bins 16829\n",
            "[LightGBM] [Info] Number of data points in the train set: 81690, number of used features: 66\n",
            "[LightGBM] [Info] [binary:BoostFromScore]: pavg=0.500000 -> initscore=0.000000\n",
            "Best LightGBM Params: {'num_leaves': 31, 'n_estimators': 200, 'learning_rate': 0.01}\n",
            "Accuracy: 0.8424857978998106\n",
            "Jaccard Index: 0.4859550561797753\n",
            "F1 Score: 0.6540642722117203\n",
            "Precision: 0.639792899408284\n",
            "Recall: 0.6689868522815159\n"
          ]
        }
      ]
    },
    {
      "cell_type": "code",
      "source": [
        "print(\"\\nCatBoost:\")\n",
        "cat = CatBoostClassifier(silent=True)\n",
        "cat_param_grid = {\n",
        "    'iterations': [100, 200],\n",
        "    'depth': [4, 6, 8],\n",
        "    'learning_rate': [0.01, 0.1]\n",
        "}\n",
        "\n",
        "search = RandomizedSearchCV(estimator=cat, param_distributions=cat_param_grid,\n",
        "                            n_iter=5, cv=3, scoring='accuracy', verbose=1, n_jobs=-1)\n",
        "search.fit(x_train, y_train)\n",
        "print(\"Best CatBoost Params:\", search.best_params_)\n",
        "best_model = search.best_estimator_\n",
        "cat_pred = best_model.predict(x_test)\n",
        "\n",
        "cat_acc = accuracy_score(y_test, cat_pred)\n",
        "cat_ji = jaccard_score(y_test, cat_pred)\n",
        "cat_f1 = f1_score(y_test, cat_pred)\n",
        "cat_pr = precision_score(y_test, cat_pred)\n",
        "cat_re = recall_score(y_test, cat_pred)\n",
        "\n",
        "print(f\"Accuracy: {cat_acc}\")\n",
        "print(f\"Jaccard Index: {cat_ji}\")\n",
        "print(f\"F1 Score: {cat_f1}\")\n",
        "print(f\"Precision: {cat_pr}\")\n",
        "print(f\"Recall: {cat_re}\")"
      ],
      "metadata": {
        "colab": {
          "base_uri": "https://localhost:8080/"
        },
        "id": "A_qRtv8jUH9A",
        "outputId": "db5eb9b6-b773-4e28-cb5b-0c6e830c89f7"
      },
      "execution_count": null,
      "outputs": [
        {
          "output_type": "stream",
          "name": "stdout",
          "text": [
            "\n",
            "CatBoost:\n",
            "Fitting 3 folds for each of 5 candidates, totalling 15 fits\n",
            "Best CatBoost Params: {'learning_rate': 0.01, 'iterations': 200, 'depth': 6}\n",
            "Accuracy: 0.8331898777758651\n",
            "Jaccard Index: 0.47536545749864645\n",
            "F1 Score: 0.6444036697247706\n",
            "Precision: 0.6131284916201117\n",
            "Recall: 0.6790409899458624\n"
          ]
        }
      ]
    },
    {
      "cell_type": "code",
      "execution_count": 24,
      "metadata": {
        "colab": {
          "base_uri": "https://localhost:8080/"
        },
        "id": "AL0wKGLnfbhc",
        "outputId": "6db4a5a2-ad3d-4afe-b6fb-1ed2eede93fa"
      },
      "outputs": [
        {
          "output_type": "stream",
          "name": "stdout",
          "text": [
            "\n",
            "Summary of Results:\n",
            "\n",
            "  Classification Algorithm  Accuracy Score  Jaccard Score  F1 Score\n",
            "0      Logistic Regression        0.810811       0.480378  0.648994\n",
            "1                KNN (K=2)        0.798416       0.382384  0.553224\n",
            "2            Decision Tree        0.813049       0.448731  0.619481\n",
            "3                      SVM        0.811327       0.482286  0.650733\n",
            "4            Random Forest        0.817697       0.469439  0.638936\n",
            "5                  XGboost        0.844207       0.485795  0.653920\n",
            "6                 Lightgbm        0.842486       0.485955  0.654064\n",
            "7                 Catboost        0.833190       0.475365  0.644404\n"
          ]
        }
      ],
      "source": [
        "print(\"\\nSummary of Results:\\n\")\n",
        "Report = {\n",
        "    'Classification Algorithm': [ 'Logistic Regression','KNN (K=2)', 'Decision Tree', 'SVM', 'Random Forest', 'XGboost', 'Lightgbm','Catboost'],\n",
        "    'Accuracy Score': [ LR_Accuracy_Score, KNN_Accuracy_Score, Tree_Accuracy_Score, SVM_Accuracy_Score, rf_accuracy_score, xgb_acc, lgbm_acc,cat_acc ],\n",
        "    'Jaccard Score': [ LR_JaccardIndex, KNN_JaccardIndex, Tree_JaccardIndex, SVM_JaccardIndex, rf_ji, xgb_ji,lgbm_ji,cat_ji ],\n",
        "    'F1 Score': [ LR_F1_Score, KNN_F1_Score, Tree_F1_Score, SVM_F1_Score, rf_f1, xgb_f1, lgbm_f1, cat_f1],\n",
        "}\n",
        "Report_df = pd.DataFrame(Report)\n",
        "print(Report_df)"
      ]
    },
    {
      "cell_type": "code",
      "execution_count": 25,
      "metadata": {
        "colab": {
          "base_uri": "https://localhost:8080/",
          "height": 659
        },
        "id": "gb-K3NisfgKt",
        "outputId": "ddc0c50a-7428-4e5f-a907-60c97911c622"
      },
      "outputs": [
        {
          "output_type": "stream",
          "name": "stdout",
          "text": [
            "\n",
            "Plotting the Results...\n",
            "\n"
          ]
        },
        {
          "output_type": "display_data",
          "data": {
            "text/plain": [
              "<Figure size 1000x600 with 1 Axes>"
            ],
            "image/png": "[encoded data removed]"
          },
          "metadata": {}
        }
      ],
      "source": [
        "print(\"\\nPlotting the Results...\\n\")\n",
        "def plot_results(report):\n",
        "    algorithms = report['Classification Algorithm']\n",
        "    accuracy = report['Accuracy Score']\n",
        "    f1_scores = report['F1 Score']\n",
        "\n",
        "    x = np.arange(len(algorithms))\n",
        "    width = 0.35\n",
        "\n",
        "    fig, ax = plt.subplots(figsize=(10, 6))\n",
        "    bars1 = ax.bar(x - width/2, accuracy, width, label='Accuracy')\n",
        "    bars2 = ax.bar(x + width/2, f1_scores, width, label='F1 Score')\n",
        "\n",
        "    ax.set_xlabel('Algorithms')\n",
        "    ax.set_ylabel('Scores')\n",
        "    ax.set_title('Model Performance Comparison')\n",
        "    ax.set_xticks(x)\n",
        "    ax.set_xticklabels(algorithms, rotation=45, ha='right')\n",
        "    ax.legend()\n",
        "\n",
        "    for bar in bars1:\n",
        "        height = bar.get_height()\n",
        "        ax.annotate(f'{height:.2f}',\n",
        "                    xy=(bar.get_x() + bar.get_width() / 2, height),\n",
        "                    xytext=(0, 3),\n",
        "                    textcoords=\"offset points\",\n",
        "                    ha='center', va='bottom')\n",
        "\n",
        "    for bar in bars2:\n",
        "        height = bar.get_height()\n",
        "        ax.annotate(f'{height:.2f}',\n",
        "                    xy=(bar.get_x() + bar.get_width() / 2, height),\n",
        "                    xytext=(0, 3),\n",
        "                    textcoords=\"offset points\",\n",
        "                    ha='center', va='bottom')\n",
        "\n",
        "    plt.tight_layout()\n",
        "    plt.show()\n",
        "\n",
        "plot_results(Report_df)"
      ]
    }
  ],
  "metadata": {
    "colab": {
      "provenance": []
    },
    "kernelspec": {
      "display_name": "Python 3",
      "name": "python3"
    },
    "language_info": {
      "name": "python"
    }
  },
  "nbformat": 4,
  "nbformat_minor": 0
}